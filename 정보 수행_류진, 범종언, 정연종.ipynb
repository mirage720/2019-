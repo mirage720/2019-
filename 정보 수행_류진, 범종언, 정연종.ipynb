{
 "cells": [
  {
   "cell_type": "code",
   "execution_count": 57,
   "metadata": {},
   "outputs": [],
   "source": [
    "## 숫자, 문자인지를 체크해줌\n",
    "from sympy import Symbol, solve, Eq\n",
    "\n",
    "c = []\n",
    "def check(string) :\n",
    "    for i in range(len(string)) : \n",
    "        if string[i].isalpha() == True :\n",
    "            c.append(i)\n",
    "d = []\n",
    "def check2(string) :\n",
    "    for i in range(len(string)) : \n",
    "        if string[i].isalpha() == True :\n",
    "            d.append(i)\n",
    "            \n",
    "x=Symbol('x')\n",
    "y=Symbol('y') \n",
    "z=Symbol('z')"
   ]
  },
  {
   "cell_type": "code",
   "execution_count": 76,
   "metadata": {},
   "outputs": [
    {
     "name": "stdout",
     "output_type": "stream",
     "text": [
      "c1o2 o2\n",
      "{0: 1, 2: 2, 5: 2}\n"
     ]
    }
   ],
   "source": [
    "## R은 반응물, Rd는 dict 형태로 정리해줌(단, 숫자)\n",
    "R = input()\n",
    "Rd = dict()\n",
    "check(R)\n",
    "\n",
    "for j in range(0, len(c)) :\n",
    "    Rd[c[j]] = int(R[c[j]+1])\n",
    "\n",
    "print(Rd)"
   ]
  },
  {
   "cell_type": "code",
   "execution_count": 77,
   "metadata": {},
   "outputs": [
    {
     "name": "stdout",
     "output_type": "stream",
     "text": [
      "c1o3\n",
      "{0: 1, 2: 3}\n"
     ]
    }
   ],
   "source": [
    "## 생성물도 같은 방식\n",
    "P = input()\n",
    "Pd = dict()\n",
    "check2(P)\n",
    "\n",
    "for j in range(0, len(d)) :\n",
    "    Pd[d[j]] = int(P[d[j]+1])\n",
    "\n",
    "print(Pd)"
   ]
  },
  {
   "cell_type": "code",
   "execution_count": 78,
   "metadata": {},
   "outputs": [
    {
     "name": "stdout",
     "output_type": "stream",
     "text": [
      "['c', 1, 'o', 3]\n",
      "[]\n"
     ]
    }
   ],
   "source": [
    "## 생성물을 '+'을 기준으로 쪼개줌\n",
    "yourlist = []\n",
    "yourlist2 = []\n",
    "\n",
    "for i in range (0, len(P)) :\n",
    "    if i in Pd :\n",
    "        if i % 2 == 0 :\n",
    "            yourlist.append(P[i])\n",
    "            yourlist.append(int(P[i+1]))\n",
    "        else :\n",
    "            yourlist2.append(int(P[i+1]))\n",
    "            \n",
    "print(yourlist)\n",
    "print(yourlist2)  "
   ]
  },
  {
   "cell_type": "code",
   "execution_count": 79,
   "metadata": {},
   "outputs": [],
   "source": [
    "## 새로운 리스트에 같은 원소는 같은 원소끼리 모아줌(product - 1분자 기준)\n",
    "\n",
    "\n",
    "\n"
   ]
  },
  {
   "cell_type": "code",
   "execution_count": 80,
   "metadata": {},
   "outputs": [
    {
     "name": "stdout",
     "output_type": "stream",
     "text": [
      "[5]\n"
     ]
    }
   ],
   "source": [
    "a = []\n",
    "for i in range (0,100) :\n",
    "    if i in Rd :\n",
    "        if i % 2 == 1 :\n",
    "            a.append(i)\n",
    "                    \n",
    "print(a)"
   ]
  },
  {
   "cell_type": "code",
   "execution_count": 81,
   "metadata": {},
   "outputs": [
    {
     "name": "stdout",
     "output_type": "stream",
     "text": [
      "[0, 2]\n",
      "[5]\n"
     ]
    }
   ],
   "source": [
    "## 반응물을 '+'을 기준으로 쪼개줌\n",
    "mylist = []\n",
    "mylist2 = []\n",
    "for i in range (0, len(R)) :\n",
    "    if i in Rd :\n",
    "        if i % 2 == 0 :\n",
    "            mylist.append(i)\n",
    "        else :\n",
    "            mylist2.append(i)\n",
    "            \n",
    "print(mylist)\n",
    "print(mylist2)  "
   ]
  },
  {
   "cell_type": "code",
   "execution_count": 82,
   "metadata": {},
   "outputs": [
    {
     "name": "stdout",
     "output_type": "stream",
     "text": [
      "['o', 2*x, 2*y] ['c', x] ['o']\n"
     ]
    }
   ],
   "source": [
    "## 새로운 리스트에 같은 원소는 같은 원소끼리 모아줌(reactant)\n",
    "mylist3 = []\n",
    "mylist4 = []\n",
    "mylist5 = []\n",
    "\n",
    "for i in range (0, len(mylist)) :\n",
    "    for j in range(0, len(mylist2)) :\n",
    "        if R[mylist[i]] == R[mylist2[j]] :\n",
    "            mylist3.append(R[mylist[i]])\n",
    "            mylist3.append(Rd.get(mylist[i])*x)\n",
    "            mylist3.append(Rd.get(mylist2[j])*y)\n",
    "        else :\n",
    "            mylist4.append(R[mylist[i]])\n",
    "            mylist4.append(Rd.get(mylist[i])*x)\n",
    "            mylist5.append(R[mylist2[j]])\n",
    "            mylist5.append(Rd.get(mylist2[j])*y)\n",
    "\n",
    "for k in range(1, len(mylist3)):\n",
    "    for m in range(1,len(mylist4)):\n",
    "        for l in range(1, len(mylist5)):\n",
    "            if mylist3[k] == mylist4[m] :\n",
    "                del mylist4[m]\n",
    "            if mylist3[k] == mylist5[l] :\n",
    "                del mylist5[l]\n",
    "\n",
    "print(mylist3, mylist4, mylist5)\n",
    "            "
   ]
  },
  {
   "cell_type": "code",
   "execution_count": 83,
   "metadata": {},
   "outputs": [
    {
     "data": {
      "text/plain": [
       "[{x: 1, y: 1/2}]"
      ]
     },
     "execution_count": 83,
     "metadata": {},
     "output_type": "execute_result"
    }
   ],
   "source": [
    "## 방정식을 해결(생성물의 계수를 1로 둠)\n",
    "\n",
    "for i in range(0, len(yourlist),2) :\n",
    "    if yourlist[i] == mylist3[0] :\n",
    "        equation1 = mylist3[1] + mylist3[2] - yourlist[i+1]\n",
    "    if yourlist[i] == mylist4[0] :\n",
    "        equation2 = mylist4[1] - yourlist[i+1]\n",
    "\n",
    "solve((equation1, equation2), dict=True)\n"
   ]
  },
  {
   "cell_type": "code",
   "execution_count": 53,
   "metadata": {},
   "outputs": [
    {
     "data": {
      "text/plain": [
       "[{x: -1/7, y: 11/7}]"
      ]
     },
     "execution_count": 53,
     "metadata": {},
     "output_type": "execute_result"
    }
   ],
   "source": []
  },
  {
   "cell_type": "code",
   "execution_count": null,
   "metadata": {},
   "outputs": [],
   "source": []
  },
  {
   "cell_type": "code",
   "execution_count": null,
   "metadata": {},
   "outputs": [],
   "source": []
  }
 ],
 "metadata": {
  "kernelspec": {
   "display_name": "Python 3",
   "language": "python",
   "name": "python3"
  },
  "language_info": {
   "codemirror_mode": {
    "name": "ipython",
    "version": 3
   },
   "file_extension": ".py",
   "mimetype": "text/x-python",
   "name": "python",
   "nbconvert_exporter": "python",
   "pygments_lexer": "ipython3",
   "version": "3.6.4"
  }
 },
 "nbformat": 4,
 "nbformat_minor": 2
}

##화학 반응식 계수를 맞추는 코드가 있으니 사전 평형이나 정류 상태 근사 등을 이용해서 반응 속도를 구하는 코드도 있으면 좋을 것 같다

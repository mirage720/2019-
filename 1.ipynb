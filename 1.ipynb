{
  "nbformat": 4,
  "nbformat_minor": 0,
  "metadata": {
    "colab": {
      "name": "1",
      "version": "0.3.2",
      "provenance": [],
      "include_colab_link": true
    },
    "kernelspec": {
      "name": "python3",
      "display_name": "Python 3"
    }
  },
  "cells": [
    {
      "cell_type": "markdown",
      "metadata": {
        "id": "view-in-github",
        "colab_type": "text"
      },
      "source": [
        "<a href=\"https://colab.research.google.com/github/ryujin1905/2019-/blob/master/1.ipynb\" target=\"_parent\"><img src=\"https://colab.research.google.com/assets/colab-badge.svg\" alt=\"Open In Colab\"/></a>"
      ]
    },
    {
      "cell_type": "code",
      "metadata": {
        "id": "RN8vUkC_4PiI",
        "colab_type": "code",
        "colab": {
          "base_uri": "https://localhost:8080/",
          "height": 111
        },
        "outputId": "78197757-9e1d-4b0c-bf1d-f36decf64f7a"
      },
      "source": [
        "a = input().split()\n",
        "b = input().split()\n",
        "print(a)\n",
        "\n",
        "## dic 형태로 스플릿\n",
        "r = dict()\n",
        "for i in a:\n",
        "    for j in range(0,len(i)-1,2) :\n",
        "            r[i[j]] = int(i[j+1])\n",
        "\n",
        "p = dict()\n",
        "for i in b: \n",
        "    for j in range(0,len(i)-1,2) :\n",
        "        if i[j] not in p :\n",
        "            p[i[j]] = int(i[j+1])\n",
        "        else :\n",
        "            p[i[j]] += int(i[j+1])\n",
        "print(r)\n",
        "print(p)\n",
        "\n"
      ],
      "execution_count": 1,
      "outputs": [
        {
          "output_type": "stream",
          "text": [
            "C1O2 O2\n",
            "H2O1\n",
            "['C1O2', 'O2']\n",
            "{'C': 1, 'O': 2}\n",
            "{'H': 2, 'O': 1}\n"
          ],
          "name": "stdout"
        }
      ]
    }
  ]
}